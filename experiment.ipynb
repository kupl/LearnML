{
 "cells": [
  {
   "cell_type": "code",
   "execution_count": 1,
   "metadata": {},
   "outputs": [],
   "source": [
    "import os\n",
    "import sys\n",
    "import subprocess\n",
    "from pathlib import Path"
   ]
  },
  {
   "cell_type": "code",
   "execution_count": 2,
   "metadata": {},
   "outputs": [],
   "source": [
    "#element := (folder,entry,grading,testcases)\n",
    "#path example ./correct_or_not/problem_name/year/submission\n",
    "global log \n",
    "\n",
    "benchmark_info = [\n",
    "    (\"checkMetro\",\"checkMetro\", \"\", \"testcases\"),\n",
    "    #(\"KoreaUniv_diff\",\"grading\",\"grading.ml\",\"testcases\"),\n",
    "]\n",
    "\n",
    "test_folders = [\"checkMetro\"]\n",
    "\n",
    "log = {}\n",
    "delimit = b\"\\n-----------------------------\\nRepair result\\n-----------------------------\\n\""
   ]
  },
  {
   "cell_type": "code",
   "execution_count": 3,
   "metadata": {},
   "outputs": [],
   "source": [
    "def gen_command(submission,sols,entry,grading,specs):\n",
    "    opt_submission = \" -submission \" + submission\n",
    "    opt_solutions = \" -solutions \" + sols\n",
    "    opt_entry = \" -entry \" + entry\n",
    "    opt_testcases = \" -testcases \" + specs\n",
    "    opt_grading = \"\"\n",
    "    if grading != \"\":\n",
    "        opt_grading = \" -grading \" + grading\n",
    "    \n",
    "    pgm = \"engine/main.native -experiment \"\n",
    "    command = pgm + opt_submission + opt_solutions + opt_entry + opt_testcases + opt_grading\n",
    "    #print(command)\n",
    "    return command"
   ]
  },
  {
   "cell_type": "code",
   "execution_count": 4,
   "metadata": {},
   "outputs": [],
   "source": [
    "def repair_result_parse(data):\n",
    "    ''' input format(string)\n",
    "    \n",
    "    \"benchmarks_correct/KoreaUniv_diff/18/sub9.ml\n",
    "    Size of repair Cand : 1\n",
    "    Fail to Repair\"\n",
    "    \n",
    "    OR\n",
    "    \n",
    "    \"benchmarks_correct/KoreaUniv_diff/18/sub9.ml\n",
    "    Size of repair Cand : 1\n",
    "    <code>...\"\n",
    "    '''\n",
    "    parsed = data.split(delimit)\n",
    "    if len(parsed)==1:\n",
    "        parsed = [False,parsed[0].strip().rsplit(b'\\n', maxsplit=1)]\n",
    "    else :\n",
    "        parsed = list(map(bytes.strip,parsed)))\n",
    "    return parsed"
   ]
  },
  {
   "cell_type": "code",
   "execution_count": 5,
   "metadata": {},
   "outputs": [],
   "source": [
    "def execute(submission,sols,entry,grading,specs):\n",
    "    global log\n",
    "    command = gen_command(submission,sols,entry,grading,specs)\n",
    "    p = subprocess.Popen(command,stdout=subprocess.PIPE, stderr=subprocess.PIPE,shell=True)\n",
    "    out, err = p.communicate()\n",
    "    log[submission] = {}\n",
    "    if not err:\n",
    "        result = out.split(b\"@#$@#$@#$\")\n",
    "        # result[1]: \"Matched Solution : 5\\n\"\n",
    "        log[submission]['num_of_matched_sol'] = int(result[1].split(b\"Matched Solution :\")[1])\n",
    "        if log[submission]['num_of_matched_sol'] != 0 :\n",
    "            repair_results = result[2:]\n",
    "            # \\n'path'\\n'repairCand'\\n'fail'or'code'\\n\n",
    "            log[submission]['repair_results'] = []\n",
    "            parsed_results = map(repair_result_parse, repair_results)\n",
    "            for is_patched,meta,code in parsed_results:\n",
    "                path, cand = meta.splitlines()\n",
    "                if is_patched:\n",
    "                    log[submission]['repair_results'].append((is_patched,path,code))\n",
    "                else :\n",
    "                    log[submission]['repair_results'].append((is_patched,path,\"\"))\n",
    "    else:\n",
    "        log[submission]['error_message'] = err\n",
    "    return command\n",
    "   "
   ]
  },
  {
   "cell_type": "code",
   "execution_count": 6,
   "metadata": {},
   "outputs": [],
   "source": [
    "def print_log(log):\n",
    "    print(log)"
   ]
  },
  {
   "cell_type": "code",
   "execution_count": 7,
   "metadata": {},
   "outputs": [],
   "source": [
    "def main() :\n",
    "    #suppose this script excuted in LearnML root directory 'your_path/LearnML'\n",
    "    global log\n",
    "    root = Path('.')\n",
    "    correct = root / \"benchmarks_correct\"\n",
    "    incorrect = root / \"benchmarks_incorrect\"\n",
    "    \n",
    "    for (prob,entry,grading,specs) in benchmark_info:\n",
    "        log = {}\n",
    "        correct_prob = correct / prob\n",
    "        incorrect_prob = incorrect / prob\n",
    "        testcases = str(correct / prob / specs)\n",
    "        if grading != \"\":\n",
    "            grading_path = str(correct / prob / grading)\n",
    "        else :\n",
    "            grading_path = \"\"\n",
    "        sols = str(correct_prob)\n",
    "        for year in incorrect_prob.iterdir():\n",
    "            if year.is_dir():\n",
    "                for submission in year.iterdir():\n",
    "                    sub = str(submission)\n",
    "                    a = execute(sub,sols,entry,grading_path,testcases)\n",
    "                    \n",
    "        print_log(log)\n",
    "                                        "
   ]
  },
  {
   "cell_type": "code",
   "execution_count": 8,
   "metadata": {
    "scrolled": true
   },
   "outputs": [
    {
     "ename": "ValueError",
     "evalue": "not enough values to unpack (expected 3, got 2)",
     "output_type": "error",
     "traceback": [
      "\u001b[0;31m---------------------------------------------------------------------------\u001b[0m",
      "\u001b[0;31mValueError\u001b[0m                                Traceback (most recent call last)",
      "\u001b[0;32m<ipython-input-8-263240bbee7e>\u001b[0m in \u001b[0;36m<module>\u001b[0;34m\u001b[0m\n\u001b[0;32m----> 1\u001b[0;31m \u001b[0mmain\u001b[0m\u001b[0;34m(\u001b[0m\u001b[0;34m)\u001b[0m\u001b[0;34m\u001b[0m\u001b[0;34m\u001b[0m\u001b[0m\n\u001b[0m",
      "\u001b[0;32m<ipython-input-7-415793734f03>\u001b[0m in \u001b[0;36mmain\u001b[0;34m()\u001b[0m\n\u001b[1;32m     20\u001b[0m                 \u001b[0;32mfor\u001b[0m \u001b[0msubmission\u001b[0m \u001b[0;32min\u001b[0m \u001b[0myear\u001b[0m\u001b[0;34m.\u001b[0m\u001b[0miterdir\u001b[0m\u001b[0;34m(\u001b[0m\u001b[0;34m)\u001b[0m\u001b[0;34m:\u001b[0m\u001b[0;34m\u001b[0m\u001b[0;34m\u001b[0m\u001b[0m\n\u001b[1;32m     21\u001b[0m                     \u001b[0msub\u001b[0m \u001b[0;34m=\u001b[0m \u001b[0mstr\u001b[0m\u001b[0;34m(\u001b[0m\u001b[0msubmission\u001b[0m\u001b[0;34m)\u001b[0m\u001b[0;34m\u001b[0m\u001b[0;34m\u001b[0m\u001b[0m\n\u001b[0;32m---> 22\u001b[0;31m                     \u001b[0ma\u001b[0m \u001b[0;34m=\u001b[0m \u001b[0mexecute\u001b[0m\u001b[0;34m(\u001b[0m\u001b[0msub\u001b[0m\u001b[0;34m,\u001b[0m\u001b[0msols\u001b[0m\u001b[0;34m,\u001b[0m\u001b[0mentry\u001b[0m\u001b[0;34m,\u001b[0m\u001b[0mgrading_path\u001b[0m\u001b[0;34m,\u001b[0m\u001b[0mtestcases\u001b[0m\u001b[0;34m)\u001b[0m\u001b[0;34m\u001b[0m\u001b[0;34m\u001b[0m\u001b[0m\n\u001b[0m\u001b[1;32m     23\u001b[0m \u001b[0;34m\u001b[0m\u001b[0m\n\u001b[1;32m     24\u001b[0m         \u001b[0mprint_log\u001b[0m\u001b[0;34m(\u001b[0m\u001b[0mlog\u001b[0m\u001b[0;34m)\u001b[0m\u001b[0;34m\u001b[0m\u001b[0;34m\u001b[0m\u001b[0m\n",
      "\u001b[0;32m<ipython-input-5-02cb9cc18ef6>\u001b[0m in \u001b[0;36mexecute\u001b[0;34m(submission, sols, entry, grading, specs)\u001b[0m\n\u001b[1;32m     14\u001b[0m             \u001b[0mlog\u001b[0m\u001b[0;34m[\u001b[0m\u001b[0msubmission\u001b[0m\u001b[0;34m]\u001b[0m\u001b[0;34m[\u001b[0m\u001b[0;34m'repair_results'\u001b[0m\u001b[0;34m]\u001b[0m \u001b[0;34m=\u001b[0m \u001b[0;34m[\u001b[0m\u001b[0;34m]\u001b[0m\u001b[0;34m\u001b[0m\u001b[0;34m\u001b[0m\u001b[0m\n\u001b[1;32m     15\u001b[0m             \u001b[0mparsed_results\u001b[0m \u001b[0;34m=\u001b[0m \u001b[0mmap\u001b[0m\u001b[0;34m(\u001b[0m\u001b[0mrepair_result_parse\u001b[0m\u001b[0;34m,\u001b[0m \u001b[0mrepair_results\u001b[0m\u001b[0;34m)\u001b[0m\u001b[0;34m\u001b[0m\u001b[0;34m\u001b[0m\u001b[0m\n\u001b[0;32m---> 16\u001b[0;31m             \u001b[0;32mfor\u001b[0m \u001b[0mis_patched\u001b[0m\u001b[0;34m,\u001b[0m\u001b[0mmeta\u001b[0m\u001b[0;34m,\u001b[0m\u001b[0mcode\u001b[0m \u001b[0;32min\u001b[0m \u001b[0mparsed_results\u001b[0m\u001b[0;34m:\u001b[0m\u001b[0;34m\u001b[0m\u001b[0;34m\u001b[0m\u001b[0m\n\u001b[0m\u001b[1;32m     17\u001b[0m                 \u001b[0mpath\u001b[0m\u001b[0;34m,\u001b[0m \u001b[0mcand\u001b[0m \u001b[0;34m=\u001b[0m \u001b[0mmeta\u001b[0m\u001b[0;34m.\u001b[0m\u001b[0msplitlines\u001b[0m\u001b[0;34m(\u001b[0m\u001b[0;34m)\u001b[0m\u001b[0;34m\u001b[0m\u001b[0;34m\u001b[0m\u001b[0m\n\u001b[1;32m     18\u001b[0m                 \u001b[0;32mif\u001b[0m \u001b[0mis_patched\u001b[0m\u001b[0;34m:\u001b[0m\u001b[0;34m\u001b[0m\u001b[0;34m\u001b[0m\u001b[0m\n",
      "\u001b[0;31mValueError\u001b[0m: not enough values to unpack (expected 3, got 2)"
     ]
    }
   ],
   "source": [
    "main()"
   ]
  },
  {
   "cell_type": "code",
   "execution_count": null,
   "metadata": {
    "scrolled": true
   },
   "outputs": [],
   "source": [
    "log"
   ]
  },
  {
   "cell_type": "code",
   "execution_count": null,
   "metadata": {
    "scrolled": true
   },
   "outputs": [],
   "source": [
    "log['benchmarks_incorrect/checkMetro/13/sub67.ml']['test']"
   ]
  },
  {
   "cell_type": "code",
   "execution_count": null,
   "metadata": {},
   "outputs": [],
   "source": [
    "'''\n",
    "if __name__ == '__main__':\n",
    "    if len(sys.argv) != 2:\n",
    "        print(\"wrong argument\")\n",
    "    else:\n",
    "        main()\n",
    "'''"
   ]
  }
 ],
 "metadata": {
  "kernelspec": {
   "display_name": "Python 3",
   "language": "python",
   "name": "python3"
  },
  "language_info": {
   "codemirror_mode": {
    "name": "ipython",
    "version": 3
   },
   "file_extension": ".py",
   "mimetype": "text/x-python",
   "name": "python",
   "nbconvert_exporter": "python",
   "pygments_lexer": "ipython3",
   "version": "3.6.8"
  }
 },
 "nbformat": 4,
 "nbformat_minor": 2
}
